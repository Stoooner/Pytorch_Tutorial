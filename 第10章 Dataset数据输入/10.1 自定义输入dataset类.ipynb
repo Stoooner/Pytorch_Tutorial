{
 "metadata": {
  "language_info": {
   "codemirror_mode": {
    "name": "ipython",
    "version": 3
   },
   "file_extension": ".py",
   "mimetype": "text/x-python",
   "name": "python",
   "nbconvert_exporter": "python",
   "pygments_lexer": "ipython3",
   "version": "3.8.5"
  },
  "orig_nbformat": 2,
  "kernelspec": {
   "name": "python385jvsc74a57bd0b2cd018fd8cba4dc5007a84c518ef0aff2e9cf01ffb8111223e88fed299c237b",
   "display_name": "Python 3.8.5 64-bit ('base': conda)"
  }
 },
 "nbformat": 4,
 "nbformat_minor": 2,
 "cells": [
  {
   "cell_type": "code",
   "execution_count": 1,
   "source": [
    "import torch\n",
    "import os\n",
    "os.environ[\"KMP_DUPLICATE_LIB_OK\"]=\"TRUE\"\n",
    "import shutil\n",
    "import pandas as pd\n",
    "import numpy as np\n",
    "import matplotlib.pyplot as plt\n",
    "import torchvision\n",
    "print(torch.__version__)\n",
    "print(torch.cuda.is_available())\n",
    "device = torch.device(\"cuda:0\" if torch.cuda.is_available() else \"cpu\")\n",
    "device"
   ],
   "outputs": [
    {
     "output_type": "stream",
     "name": "stdout",
     "text": [
      "1.8.1+cu101\n",
      "True\n"
     ]
    },
    {
     "output_type": "execute_result",
     "data": {
      "text/plain": [
       "device(type='cuda', index=0)"
      ]
     },
     "metadata": {},
     "execution_count": 1
    }
   ],
   "metadata": {}
  },
  {
   "cell_type": "markdown",
   "source": [
    "## 加载数据"
   ],
   "metadata": {}
  },
  {
   "cell_type": "code",
   "execution_count": 9,
   "source": [
    "# 自定义的Datset类必须注意：1. 继承torch.utils.data.Dataset；2. 实现__getitem__、__len__以及__init__方法\n",
    "class MyDataset(torch.utils.data.Dataset):\n",
    "    def __init__(self, imgs_path_list):\n",
    "        self.imgs_path_list = imgs_path_list\n",
    "    def __getitem__(self, index):\n",
    "        return self.imgs_path_list[index]\n",
    "    def __len__(self):\n",
    "        return len(self.imgs_path_list)"
   ],
   "outputs": [],
   "metadata": {}
  },
  {
   "cell_type": "code",
   "execution_count": 10,
   "source": [
    "import glob\n",
    "all_imgs_path = glob.glob(r\"../小型CSV数据/dataset2/*.jpg\")\n",
    "mydataset = MyDataset(all_imgs_path)\n",
    "mydataset[3:16]"
   ],
   "outputs": [
    {
     "output_type": "execute_result",
     "data": {
      "text/plain": [
       "['../小型CSV数据/dataset2\\\\cloudy101.jpg',\n",
       " '../小型CSV数据/dataset2\\\\cloudy102.jpg',\n",
       " '../小型CSV数据/dataset2\\\\cloudy103.jpg',\n",
       " '../小型CSV数据/dataset2\\\\cloudy104.jpg',\n",
       " '../小型CSV数据/dataset2\\\\cloudy105.jpg',\n",
       " '../小型CSV数据/dataset2\\\\cloudy106.jpg',\n",
       " '../小型CSV数据/dataset2\\\\cloudy107.jpg',\n",
       " '../小型CSV数据/dataset2\\\\cloudy108.jpg',\n",
       " '../小型CSV数据/dataset2\\\\cloudy109.jpg',\n",
       " '../小型CSV数据/dataset2\\\\cloudy11.jpg',\n",
       " '../小型CSV数据/dataset2\\\\cloudy110.jpg',\n",
       " '../小型CSV数据/dataset2\\\\cloudy111.jpg',\n",
       " '../小型CSV数据/dataset2\\\\cloudy112.jpg']"
      ]
     },
     "metadata": {},
     "execution_count": 10
    }
   ],
   "metadata": {}
  },
  {
   "cell_type": "code",
   "execution_count": 13,
   "source": [
    "# 由于MyDataset本身就是继承自torch.utils.data.Dataset，因此其定义的对象mydataset也即为Dataset类对象\n",
    "weatherdata_loader = torch.utils.data.DataLoader(mydataset, batch_size=4)\n",
    "next(iter(weatherdata_loader))"
   ],
   "outputs": [
    {
     "output_type": "execute_result",
     "data": {
      "text/plain": [
       "['../小型CSV数据/dataset2\\\\cloudy1.jpg',\n",
       " '../小型CSV数据/dataset2\\\\cloudy10.jpg',\n",
       " '../小型CSV数据/dataset2\\\\cloudy100.jpg',\n",
       " '../小型CSV数据/dataset2\\\\cloudy101.jpg']"
      ]
     },
     "metadata": {},
     "execution_count": 13
    }
   ],
   "metadata": {}
  }
 ]
}