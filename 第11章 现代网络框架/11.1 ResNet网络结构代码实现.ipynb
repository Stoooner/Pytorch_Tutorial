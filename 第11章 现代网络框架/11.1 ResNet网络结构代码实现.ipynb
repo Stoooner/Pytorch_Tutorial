{
 "metadata": {
  "language_info": {
   "codemirror_mode": {
    "name": "ipython",
    "version": 3
   },
   "file_extension": ".py",
   "mimetype": "text/x-python",
   "name": "python",
   "nbconvert_exporter": "python",
   "pygments_lexer": "ipython3",
   "version": "3.8.5"
  },
  "orig_nbformat": 2,
  "kernelspec": {
   "name": "python385jvsc74a57bd0b2cd018fd8cba4dc5007a84c518ef0aff2e9cf01ffb8111223e88fed299c237b",
   "display_name": "Python 3.8.5 64-bit ('base': conda)"
  }
 },
 "nbformat": 4,
 "nbformat_minor": 2,
 "cells": [
  {
   "cell_type": "code",
   "execution_count": 1,
   "metadata": {},
   "outputs": [
    {
     "output_type": "stream",
     "name": "stdout",
     "text": [
      "1.8.1+cu101\nTrue\n"
     ]
    },
    {
     "output_type": "execute_result",
     "data": {
      "text/plain": [
       "device(type='cuda', index=0)"
      ]
     },
     "metadata": {},
     "execution_count": 1
    }
   ],
   "source": [
    "import torch\n",
    "import os\n",
    "os.environ[\"KMP_DUPLICATE_LIB_OK\"]=\"TRUE\"\n",
    "import shutil\n",
    "import pandas as pd\n",
    "import numpy as np\n",
    "import matplotlib.pyplot as plt\n",
    "import torchvision\n",
    "from PIL import Image\n",
    "import glob\n",
    "print(torch.__version__)\n",
    "print(torch.cuda.is_available())\n",
    "device = torch.device(\"cuda:0\" if torch.cuda.is_available() else \"cpu\")\n",
    "device"
   ]
  },
  {
   "source": [
    "- 卷积公式为：\n",
    "$$w_{out} = \\frac{w_{in} + 2p - f}{s} + 1$$\n",
    "当s = 1, p = 0时：\n",
    "$$w_{out} = w_{in} - （f - 1）$$\n",
    "也即，此时卷积后的特征图相比较卷积前输入的特征图的大小来说，其大小要减少输入特征图减去(f-1)的大小，\n",
    "- 因此，对于kernel_size = 3的卷积核来说，要想保持卷积前后特征图的尺寸不变，则$padding = \\frac{(f-1)}{2} = 1$,\n",
    "- 因此，对于kernel_size = 5的卷积核来说，要想保持卷积前后特征图的尺寸不变，则$padding = 2$"
   ],
   "cell_type": "markdown",
   "metadata": {}
  },
  {
   "cell_type": "code",
   "execution_count": 6,
   "metadata": {},
   "outputs": [],
   "source": [
    "import torch.nn.functional as F\n",
    "class ResNetBasicBlock(torch.nn.Module):\n",
    "    def __init__(self, in_channels, out_channels):\n",
    "        super().__init__()\n",
    "        # torch中padding=n代表对图像上下左右进行填充的像素数目\n",
    "        self.conv1 = torch.nn.Conv2d(in_channels=in_channels, \n",
    "                                     out_channels=out_channels,\n",
    "                                     kernel_size=3,\n",
    "                                     padding=1,\n",
    "                                     bias=False)\n",
    "        self.batch_norm1 = torch.nn.BatchNorm2d(num_features=out_channels)\n",
    "        self.conv2 = torch.nn.Conv2d(in_channels=out_channels, \n",
    "                                     out_channels=out_channels,\n",
    "                                     kernel_size=3,\n",
    "                                     padding=1,\n",
    "                                     bias=False)\n",
    "        self.batch_norm2 = torch.nn.BatchNorm2d(num_features=out_channels)\n",
    "    \n",
    "    def forward(self, input):\n",
    "        residual = input\n",
    "        x = self.conv1(input) \n",
    "        x = F.relu(self.batch_norm1(x), inplace=True) # inplace=True代表就地改变\n",
    "        x = self.conv2(x) \n",
    "        x = self.batch_norm2(x)\n",
    "        x += residual\n",
    "        return F.relu(x)"
   ]
  },
  {
   "cell_type": "code",
   "execution_count": 12,
   "metadata": {},
   "outputs": [],
   "source": [
    "model = ResNetBasicBlock(10, 20)"
   ]
  }
 ]
}