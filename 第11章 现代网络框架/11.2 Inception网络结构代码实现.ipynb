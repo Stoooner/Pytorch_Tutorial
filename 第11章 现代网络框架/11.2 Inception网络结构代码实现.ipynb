{
 "metadata": {
  "language_info": {
   "codemirror_mode": {
    "name": "ipython",
    "version": 3
   },
   "file_extension": ".py",
   "mimetype": "text/x-python",
   "name": "python",
   "nbconvert_exporter": "python",
   "pygments_lexer": "ipython3",
   "version": "3.8.5"
  },
  "orig_nbformat": 2,
  "kernelspec": {
   "name": "python385jvsc74a57bd0b2cd018fd8cba4dc5007a84c518ef0aff2e9cf01ffb8111223e88fed299c237b",
   "display_name": "Python 3.8.5 64-bit ('base': conda)"
  }
 },
 "nbformat": 4,
 "nbformat_minor": 2,
 "cells": [
  {
   "cell_type": "code",
   "execution_count": 20,
   "metadata": {},
   "outputs": [
    {
     "output_type": "stream",
     "name": "stdout",
     "text": [
      "1.8.1+cu101\nTrue\n"
     ]
    },
    {
     "output_type": "execute_result",
     "data": {
      "text/plain": [
       "device(type='cuda', index=0)"
      ]
     },
     "metadata": {},
     "execution_count": 20
    }
   ],
   "source": [
    "import torch\n",
    "import os\n",
    "os.environ[\"KMP_DUPLICATE_LIB_OK\"]=\"TRUE\"\n",
    "import shutil\n",
    "import pandas as pd\n",
    "import numpy as np\n",
    "import matplotlib.pyplot as plt\n",
    "import torchvision\n",
    "from PIL import Image\n",
    "import glob\n",
    "print(torch.__version__)\n",
    "print(torch.cuda.is_available())\n",
    "device = torch.device(\"cuda:0\" if torch.cuda.is_available() else \"cpu\")\n",
    "device"
   ]
  },
  {
   "cell_type": "code",
   "execution_count": 21,
   "metadata": {},
   "outputs": [],
   "source": [
    "import torch.nn.functional as F\n",
    "class BasicBlock(torch.nn.Module):\n",
    "    def __init__(self, in_channels, out_channels, **kwargs):\n",
    "        super().__init__()\n",
    "        self.conv = torch.nn.Conv2d(in_channels=in_channels, \n",
    "                                     out_channels=out_channels,\n",
    "                                     bias=False,\n",
    "                                     **kwargs)\n",
    "        self.batch_norm = torch.nn.BatchNorm2d(num_features=out_channels)\n",
    "    \n",
    "    def forward(self, input):\n",
    "        x = self.conv(input) \n",
    "        x = F.relu(self.batch_norm(x), inplace=True)\n",
    "        return x"
   ]
  },
  {
   "cell_type": "code",
   "execution_count": 22,
   "metadata": {},
   "outputs": [],
   "source": [
    "class InceptionBlock(torch.nn.Module):\n",
    "    def __init__(self, in_channels, pool_features):\n",
    "        super().__init__()\n",
    "        self.branch1x1 = BasicBlock(in_channels=in_channels, out_channels=64, kernel_size=1)\n",
    "        self.branch3x3_1 = BasicBlock(in_channels=in_channels, out_channels=64, kernel_size=1)\n",
    "        self.branch3x3_2 = BasicBlock(in_channels=64, out_channels=96, kernel_size=3, padding=1)\n",
    "        self.branch5x5_1 = BasicBlock(in_channels=in_channels, out_channels=48, kernel_size=1)\n",
    "        self.branch5x5_2 = BasicBlock(in_channels=48, out_channels=64, kernel_size=5, padding=2)\n",
    "        self.branch_pool = BasicBlock(in_channels=in_channels, \n",
    "                                      out_channels=pool_features, \n",
    "                                      kernel_size=1)\n",
    "    \n",
    "    def forward(self, input):\n",
    "        branch_1x1_out = self.branch1x1(input) \n",
    "\n",
    "        branch_3x3 = self.branch3x3_1(input)\n",
    "        branch_3x3_out = self.branch3x3_2(branch_3x3)\n",
    "\n",
    "        branch_5x5 = self.branch5x5_1(input)\n",
    "        branch_5x5_out = self.branch5x5_2(branch_5x5)\n",
    "\n",
    "        branch_pool = F.max_pool2d(input, kernel_size=3, stride=1, padding=1)\n",
    "        branch_pool_out = self.branch_pool(branch_pool)\n",
    "\n",
    "        outputs = [branch_1x1_out, branch_3x3_out, branch_5x5_out, branch_pool_out]\n",
    "        return torch.cat(tensors=outputs, dim=1)"
   ]
  },
  {
   "cell_type": "code",
   "execution_count": 23,
   "metadata": {},
   "outputs": [
    {
     "output_type": "execute_result",
     "data": {
      "text/plain": [
       "InceptionBlock(\n",
       "  (branch1x1): BasicBlock(\n",
       "    (conv): Conv2d(32, 64, kernel_size=(1, 1), stride=(1, 1), bias=False)\n",
       "    (batch_norm): BatchNorm2d(64, eps=1e-05, momentum=0.1, affine=True, track_running_stats=True)\n",
       "  )\n",
       "  (branch3x3_1): BasicBlock(\n",
       "    (conv): Conv2d(32, 64, kernel_size=(1, 1), stride=(1, 1), bias=False)\n",
       "    (batch_norm): BatchNorm2d(64, eps=1e-05, momentum=0.1, affine=True, track_running_stats=True)\n",
       "  )\n",
       "  (branch3x3_2): BasicBlock(\n",
       "    (conv): Conv2d(64, 96, kernel_size=(3, 3), stride=(1, 1), padding=(1, 1), bias=False)\n",
       "    (batch_norm): BatchNorm2d(96, eps=1e-05, momentum=0.1, affine=True, track_running_stats=True)\n",
       "  )\n",
       "  (branch5x5_1): BasicBlock(\n",
       "    (conv): Conv2d(32, 48, kernel_size=(1, 1), stride=(1, 1), bias=False)\n",
       "    (batch_norm): BatchNorm2d(48, eps=1e-05, momentum=0.1, affine=True, track_running_stats=True)\n",
       "  )\n",
       "  (branch5x5_2): BasicBlock(\n",
       "    (conv): Conv2d(48, 64, kernel_size=(5, 5), stride=(1, 1), padding=(2, 2), bias=False)\n",
       "    (batch_norm): BatchNorm2d(64, eps=1e-05, momentum=0.1, affine=True, track_running_stats=True)\n",
       "  )\n",
       "  (branch_pool): BasicBlock(\n",
       "    (conv): Conv2d(32, 64, kernel_size=(1, 1), stride=(1, 1), bias=False)\n",
       "    (batch_norm): BatchNorm2d(64, eps=1e-05, momentum=0.1, affine=True, track_running_stats=True)\n",
       "  )\n",
       ")"
      ]
     },
     "metadata": {},
     "execution_count": 23
    }
   ],
   "source": [
    "inception_net = InceptionBlock(in_channels=32, pool_features=64)\n",
    "inception_net.to(device)"
   ]
  },
  {
   "cell_type": "code",
   "execution_count": 26,
   "metadata": {},
   "outputs": [
    {
     "output_type": "stream",
     "name": "stdout",
     "text": [
      "----------------------------------------------------------------\n        Layer (type)               Output Shape         Param #\n================================================================\n            Conv2d-1         [-1, 64, 256, 256]           2,048\n       BatchNorm2d-2         [-1, 64, 256, 256]             128\n        BasicBlock-3         [-1, 64, 256, 256]               0\n            Conv2d-4         [-1, 64, 256, 256]           2,048\n       BatchNorm2d-5         [-1, 64, 256, 256]             128\n        BasicBlock-6         [-1, 64, 256, 256]               0\n            Conv2d-7         [-1, 96, 256, 256]          55,296\n       BatchNorm2d-8         [-1, 96, 256, 256]             192\n        BasicBlock-9         [-1, 96, 256, 256]               0\n           Conv2d-10         [-1, 48, 256, 256]           1,536\n      BatchNorm2d-11         [-1, 48, 256, 256]              96\n       BasicBlock-12         [-1, 48, 256, 256]               0\n           Conv2d-13         [-1, 64, 256, 256]          76,800\n      BatchNorm2d-14         [-1, 64, 256, 256]             128\n       BasicBlock-15         [-1, 64, 256, 256]               0\n           Conv2d-16         [-1, 64, 256, 256]           2,048\n      BatchNorm2d-17         [-1, 64, 256, 256]             128\n       BasicBlock-18         [-1, 64, 256, 256]               0\n================================================================\nTotal params: 140,576\nTrainable params: 140,576\nNon-trainable params: 0\n----------------------------------------------------------------\nInput size (MB): 8.00\nForward/backward pass size (MB): 600.00\nParams size (MB): 0.54\nEstimated Total Size (MB): 608.54\n----------------------------------------------------------------\n"
     ]
    }
   ],
   "source": [
    "from torchsummary import summary\n",
    "summary(inception_net, input_size=(32, 256, 256))"
   ]
  }
 ]
}